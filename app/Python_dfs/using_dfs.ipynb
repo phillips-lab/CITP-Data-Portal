{
 "cells": [
  {
   "cell_type": "code",
   "execution_count": 1,
   "metadata": {},
   "outputs": [],
   "source": [
    "# Import pandas package into python file using import statement\n",
    "import pandas as pd"
   ]
  },
  {
   "cell_type": "markdown",
   "metadata": {},
   "source": [
    "To begin, you need to download the pandas package for use. Python has a built-in package installer, pip.\n",
    "You can run the following commands in the terminal:\n",
    "\n",
    "pip install pandas\n",
    "\n",
    "Next, ensure that the data file metformin_data.csv is located in the same directory as this script on your computer."
   ]
  },
  {
   "cell_type": "code",
   "execution_count": 2,
   "metadata": {},
   "outputs": [],
   "source": [
    "# Load data into pandas dataframe\n",
    "\n",
    "df = pd.read_csv(\"all_experiments.csv\")\n",
    "\n",
    "\n"
   ]
  },
  {
   "cell_type": "code",
   "execution_count": 3,
   "metadata": {},
   "outputs": [
    {
     "name": "stdout",
     "output_type": "stream",
     "text": [
      "           ID        Name             Type Bac Strain       Lab  Start Date  \\\n",
      "0    50000820   DS_082420  manual_lifespan     OP50-1  Driscoll  2020-08-24   \n",
      "1    50000840   PS_092520  manual_lifespan     OP50-1  Phillips  2020-09-25   \n",
      "2    50000920   LS_100920  manual_lifespan     OP50-1   Lithgow  2020-10-09   \n",
      "3    50000940   DS_100520  manual_lifespan     OP50-1  Driscoll  2020-10-05   \n",
      "4    50001000   LS_101620  manual_lifespan     OP50-1   Lithgow  2020-10-16   \n",
      "..        ...         ...              ...        ...       ...         ...   \n",
      "208  60000360  LAS_121721     alm_lifespan     OP50-1   Lithgow  2021-12-17   \n",
      "209  60000380  LAS_082022     alm_lifespan     OP50-1   Lithgow  2022-08-20   \n",
      "210  60000400  PAS_101022     alm_lifespan     OP50-1  Phillips  2022-10-10   \n",
      "211  60000420  PAS_102822     alm_lifespan     OP50-1  Phillips  2022-10-28   \n",
      "212  60000440  PAS_110422     alm_lifespan     OP50-1  Phillips  2022-11-04   \n",
      "\n",
      "     Active  Metadata Complete  Experiment Complete  Experiment Validated  \n",
      "0         0                  1                    0                     0  \n",
      "1         0                  1                    0                     0  \n",
      "2         0                  1                    1                     0  \n",
      "3         0                  1                    1                     0  \n",
      "4         0                  1                    1                     0  \n",
      "..      ...                ...                  ...                   ...  \n",
      "208       0                  1                    1                     1  \n",
      "209       0                  1                    1                     1  \n",
      "210       0                  1                    1                     1  \n",
      "211       0                  1                    1                     1  \n",
      "212       0                  1                    1                     1  \n",
      "\n",
      "[213 rows x 10 columns]\n"
     ]
    }
   ],
   "source": [
    "# Printing out the imported dataframe\n",
    "print(df)"
   ]
  },
  {
   "cell_type": "code",
   "execution_count": 4,
   "metadata": {},
   "outputs": [
    {
     "name": "stdout",
     "output_type": "stream",
     "text": [
      "           ID            Name             Type Bac Strain       Lab  \\\n",
      "0    50000820       DS_082420  manual_lifespan     OP50-1  Driscoll   \n",
      "107  50003600       DS_032122  manual_lifespan     OP50-1  Driscoll   \n",
      "104  50003500       DS_021422  manual_lifespan     OP50-1  Driscoll   \n",
      "103  50003460       DS_011022  manual_lifespan     OP50-1  Driscoll   \n",
      "102  50003440       DS_110121  manual_lifespan     OP50-1  Driscoll   \n",
      "..        ...             ...              ...        ...       ...   \n",
      "83   50002980    PC_102921_DR  manual_lifespan     OP50-1  Phillips   \n",
      "84   50003000  PS_112621_SULF  manual_lifespan     OP50-1  Phillips   \n",
      "85   50003020  PS_112621_ATRA  manual_lifespan     OP50-1  Phillips   \n",
      "88   50003080       PS_012822  manual_lifespan     OP50-1  Phillips   \n",
      "212  60000440      PAS_110422     alm_lifespan     OP50-1  Phillips   \n",
      "\n",
      "     Start Date  Active  Metadata Complete  Experiment Complete  \\\n",
      "0    2020-08-24       0                  1                    0   \n",
      "107  2022-03-21       0                  1                    0   \n",
      "104  2022-02-14       0                  1                    0   \n",
      "103  2022-01-10       0                  1                    0   \n",
      "102  2021-11-01       0                  1                    0   \n",
      "..          ...     ...                ...                  ...   \n",
      "83   2021-10-29       0                  1                    0   \n",
      "84   2021-11-26       0                  1                    1   \n",
      "85   2021-11-26       0                  1                    0   \n",
      "88   2022-01-28       0                  1                    1   \n",
      "212  2022-11-04       0                  1                    1   \n",
      "\n",
      "     Experiment Validated  \n",
      "0                       0  \n",
      "107                     0  \n",
      "104                     0  \n",
      "103                     0  \n",
      "102                     0  \n",
      "..                    ...  \n",
      "83                      0  \n",
      "84                      1  \n",
      "85                      0  \n",
      "88                      1  \n",
      "212                     1  \n",
      "\n",
      "[213 rows x 10 columns]\n"
     ]
    }
   ],
   "source": [
    "# Sorting the data by column\n",
    "sorted_experimenter = df.sort_values(by = \"Lab\")\n",
    "print(sorted_experimenter)"
   ]
  },
  {
   "cell_type": "code",
   "execution_count": 5,
   "metadata": {},
   "outputs": [
    {
     "name": "stdout",
     "output_type": "stream",
     "text": [
      "           ID        Name             Type Bac Strain       Lab  Start Date  \\\n",
      "0    50000820   DS_082420  manual_lifespan     OP50-1  Driscoll  2020-08-24   \n",
      "1    50000840   PS_092520  manual_lifespan     OP50-1  Phillips  2020-09-25   \n",
      "2    50000920   LS_100920  manual_lifespan     OP50-1   Lithgow  2020-10-09   \n",
      "3    50000940   DS_100520  manual_lifespan     OP50-1  Driscoll  2020-10-05   \n",
      "4    50001000   LS_101620  manual_lifespan     OP50-1   Lithgow  2020-10-16   \n",
      "..        ...         ...              ...        ...       ...         ...   \n",
      "208  60000360  LAS_121721     alm_lifespan     OP50-1   Lithgow  2021-12-17   \n",
      "209  60000380  LAS_082022     alm_lifespan     OP50-1   Lithgow  2022-08-20   \n",
      "210  60000400  PAS_101022     alm_lifespan     OP50-1  Phillips  2022-10-10   \n",
      "211  60000420  PAS_102822     alm_lifespan     OP50-1  Phillips  2022-10-28   \n",
      "212  60000440  PAS_110422     alm_lifespan     OP50-1  Phillips  2022-11-04   \n",
      "\n",
      "     Active  Metadata Complete  Experiment Complete  Experiment Validated  \n",
      "0         0                  1                    0                     0  \n",
      "1         0                  1                    0                     0  \n",
      "2         0                  1                    1                     0  \n",
      "3         0                  1                    1                     0  \n",
      "4         0                  1                    1                     0  \n",
      "..      ...                ...                  ...                   ...  \n",
      "208       0                  1                    1                     1  \n",
      "209       0                  1                    1                     1  \n",
      "210       0                  1                    1                     1  \n",
      "211       0                  1                    1                     1  \n",
      "212       0                  1                    1                     1  \n",
      "\n",
      "[213 rows x 10 columns]\n"
     ]
    }
   ],
   "source": [
    "df_col_drop = df.drop(columns=\"ID\")\n",
    "print(df)"
   ]
  },
  {
   "cell_type": "code",
   "execution_count": null,
   "metadata": {},
   "outputs": [],
   "source": []
  },
  {
   "cell_type": "code",
   "execution_count": null,
   "metadata": {},
   "outputs": [],
   "source": []
  }
 ],
 "metadata": {
  "kernelspec": {
   "display_name": "Python 3 (ipykernel)",
   "language": "python",
   "name": "python3"
  },
  "language_info": {
   "codemirror_mode": {
    "name": "ipython",
    "version": 3
   },
   "file_extension": ".py",
   "mimetype": "text/x-python",
   "name": "python",
   "nbconvert_exporter": "python",
   "pygments_lexer": "ipython3",
   "version": "3.11.1"
  }
 },
 "nbformat": 4,
 "nbformat_minor": 2
}
