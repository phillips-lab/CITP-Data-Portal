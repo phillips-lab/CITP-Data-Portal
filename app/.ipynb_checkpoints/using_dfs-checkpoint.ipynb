{
 "cells": [
  {
   "cell_type": "markdown",
   "metadata": {},
   "source": [
    "To begin, you need to download the pandas package for use. Python has a built-in package installer, pip.\n",
    "You can run the following commands in the terminal:\n",
    "\n",
    "pip install pandas\n",
    "\n",
    "Next, you will download the files metformin_data.csv and metformin_data.xlsx for this exercise"
   ]
  },
  {
   "cell_type": "code",
   "execution_count": null,
   "metadata": {},
   "outputs": [],
   "source": [
    "# Import pandas package into python file using import statement\n",
    "import pandas as pd"
   ]
  },
  {
   "cell_type": "code",
   "execution_count": null,
   "metadata": {},
   "outputs": [],
   "source": [
    "# Load data into pandas dataframe\n",
    "\n",
    "# For CSV data:\n",
    "df = pd.read_csv(\"metformin_data.csv\")\n",
    "\n",
    "# For Excel data:\n",
    "df = pd.read_excel(\"metformin_data.xlsx\")\n"
   ]
  },
  {
   "cell_type": "code",
   "execution_count": null,
   "metadata": {},
   "outputs": [],
   "source": [
    "# Printing out the imported dataframe\n",
    "print(df)"
   ]
  },
  {
   "cell_type": "markdown",
   "metadata": {},
   "source": [
    "Lab  Experimenter  ... Experimenter for observation                 Merged\n",
    "0      DRISCOLL            16  ...                           16       AF16_CTRL_H2O_x0\n",
    "1      DRISCOLL            16  ...                           16       AF16_CTRL_H2O_x0\n",
    "2      DRISCOLL            16  ...                           16       AF16_CTRL_H2O_x0\n",
    "3      DRISCOLL            16  ...                           16       AF16_CTRL_H2O_x0\n",
    "4      DRISCOLL            16  ...                           16       AF16_CTRL_H2O_x0\n",
    "...         ...           ...  ...                          ...                    ...\n",
    "31283  PHILLIPS             9  ...                            9  MY16_METFORMIN_x70000\n",
    "31284  PHILLIPS             9  ...                            9  MY16_METFORMIN_x70000\n",
    "31285  PHILLIPS             9  ...                            9  MY16_METFORMIN_x70000\n",
    "31286  PHILLIPS             9  ...                            9  MY16_METFORMIN_x70000\n",
    "31287  PHILLIPS             9  ...                            9  MY16_METFORMIN_x70000"
   ]
  },
  {
   "cell_type": "code",
   "execution_count": null,
   "metadata": {},
   "outputs": [],
   "source": [
    "# Sorting the data by column\n",
    "sorted_experimenter = df.sort_values(by = \"Experimenter\")"
   ]
  },
  {
   "cell_type": "markdown",
   "metadata": {},
   "source": [
    "Lab  Experimenter  ... Experimenter for observation                       Merged\n",
    "25777  PHILLIPS             2  ...                            9            JU775_CTRL_H2O_x0\n",
    "26212  PHILLIPS             2  ...                            2        MY16_METFORMIN_x70000\n",
    "26211  PHILLIPS             2  ...                            2        MY16_METFORMIN_x70000\n",
    "26210  PHILLIPS             2  ...                            2        MY16_METFORMIN_x70000\n",
    "26209  PHILLIPS             2  ...                            2        MY16_METFORMIN_x70000\n",
    "...         ...           ...  ...                          ...                          ...\n",
    "4469   DRISCOLL            24  ...                           24      JU1630_METFORMIN_x10000\n",
    "4468   DRISCOLL            24  ...                           24      JU1630_METFORMIN_x10000\n",
    "4467   DRISCOLL            24  ...                           24      JU1630_METFORMIN_x10000\n",
    "2704   DRISCOLL            24  ...                           24           JU1373_CTRL_H2O_x0\n",
    "7446   DRISCOLL            24  ...                           24  N2_PD1073_METFORMIN_x100000"
   ]
  },
  {
   "cell_type": "code",
   "execution_count": null,
   "metadata": {},
   "outputs": [],
   "source": [
    "df_col_drop = df.drop(columns=\"Merged\")"
   ]
  },
  {
   "cell_type": "markdown",
   "metadata": {},
   "source": [
    "Lab                     Experimenter   Compound  ... DeathNoCen    Experiment Name Experimenter for observation\n",
    "DRISCOLL            16                    CTRL_H2O  ...        NaN          DS_030819                           16\n",
    "DRISCOLL            16                    CTRL_H2O  ...        NaN          DS_030819                           16\n",
    "DRISCOLL            16                    CTRL_H2O  ...        NaN          DS_030819                           16\n",
    "DRISCOLL            16                    CTRL_H2O  ...        NaN          DS_030819                           16\n",
    "DRISCOLL            16                    CTRL_H2O  ...        NaN          DS_030819                           16\n",
    "...         ...           ...        ...  ...        ...                ...                          ...\n",
    "PHILLIPS               9                     METFORMIN  ...     28.0          PS_072018_METFO_9           9\n",
    "PHILLIPS               9                     METFORMIN  ...     28.0          PS_072018_METFO_9           9\n",
    "PHILLIPS               9                     METFORMIN  ...     28.0          PS_072018_METFO_9           9\n",
    "PHILLIPS               9                     METFORMIN  ...     28.0          PS_072018_METFO_9           9\n",
    "PHILLIPS               9                     METFORMIN  ...     28.0          PS_072018_METFO_9           9"
   ]
  }
 ],
 "metadata": {
  "kernelspec": {
   "display_name": "Python 3 (ipykernel)",
   "language": "python",
   "name": "python3"
  },
  "language_info": {
   "codemirror_mode": {
    "name": "ipython",
    "version": 3
   },
   "file_extension": ".py",
   "mimetype": "text/x-python",
   "name": "python",
   "nbconvert_exporter": "python",
   "pygments_lexer": "ipython3",
   "version": "3.11.1"
  }
 },
 "nbformat": 4,
 "nbformat_minor": 2
}
